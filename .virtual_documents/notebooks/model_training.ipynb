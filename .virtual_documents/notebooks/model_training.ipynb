import tensorflow as tf
from tensorflow.keras import layers, models
from tensorflow.keras.applications import MobileNetV2
from tensorflow.keras.applications.mobilenet_v2 import preprocess_input
from tensorflow.keras.utils import image_dataset_from_directory
from tensorflow.keras.callbacks import EarlyStopping, ReduceLROnPlateau
import matplotlib.pyplot as plt
import os



dataset_path = "../data/processed/train_split"

train_ds = image_dataset_from_directory(
    dataset_path,
    validation_split=0.2,
    subset="training",
    seed=42,
    image_size=(32, 32),
    batch_size=32
)

val_ds = image_dataset_from_directory(
    dataset_path,
    validation_split=0.2,
    subset="validation",
    seed=42,
    image_size=(32, 32),
    batch_size=32
)

class_names = train_ds.class_names
print("Class names:", class_names)



data_augmentation = tf.keras.Sequential([
    layers.RandomFlip("horizontal"),
    layers.RandomRotation(0.1),
    layers.RandomZoom(0.1),
])

# Use MobileNetV2's preprocess_input
preprocess_layer = layers.Rescaling(1./127.5, offset=-1)  # Equivalent to preprocess_input



AUTOTUNE = tf.data.AUTOTUNE

train_ds = train_ds.map(lambda x, y: (preprocess_layer(x), y))
train_ds = train_ds.cache().shuffle(1000).prefetch(buffer_size=AUTOTUNE)

val_ds = val_ds.map(lambda x, y: (preprocess_layer(x), y))
val_ds = val_ds.cache().prefetch(buffer_size=AUTOTUNE)



base_model = MobileNetV2(
    input_shape=(32, 32, 3),
    include_top=False,
    weights="imagenet"
)
base_model.trainable = False  # freeze feature extractor

model = models.Sequential([
    layers.Input(shape=(32, 32, 3)),
    data_augmentation,
    preprocess_layer,
    base_model,
    layers.GlobalAveragePooling2D(),
    layers.Dropout(0.3),
    layers.Dense(128, activation='relu'),
    layers.Dropout(0.2),
    layers.Dense(10, activation='softmax')
])

model.summary()



model.compile(
    optimizer=tf.keras.optimizers.Adam(),
    loss='sparse_categorical_crossentropy',
    metrics=['accuracy']
)




